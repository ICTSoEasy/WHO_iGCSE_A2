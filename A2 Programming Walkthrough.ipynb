{
 "cells": [
  {
   "cell_type": "markdown",
   "metadata": {},
   "source": [
    "# Walkthrough for iGCSE Computer Science\n",
    "## Assignment 2 - Programming Task"
   ]
  },
  {
   "cell_type": "markdown",
   "metadata": {},
   "source": [
    "###  Question 1\n",
    "As we are asked for an expression we can answer as simply as `a + b` although you may also see these as an assignment expression `z = a + b`"
   ]
  },
  {
   "cell_type": "markdown",
   "metadata": {},
   "source": [
    "Addition uses the same symbol (which we call an operator as it *operates* on some data) as normal maths:"
   ]
  },
  {
   "cell_type": "code",
   "execution_count": 1,
   "metadata": {},
   "outputs": [
    {
     "data": {
      "text/plain": [
       "308"
      ]
     },
     "execution_count": 1,
     "metadata": {},
     "output_type": "execute_result"
    }
   ],
   "source": [
    "236+72"
   ]
  },
  {
   "cell_type": "markdown",
   "metadata": {
    "hide_input": false
   },
   "source": [
    "If we are just asked to divide, we use an 'ordinary' divide, which like in the real world produces a float (decimal) output. However, the divide symbol ÷ is a bit tricky to use - it's not on the keyboard - so we use the / symbol. Think of it like when you do a fraction (which is just division!) Notice here that even though it's a whole number, we still get the .0 to show it's a float."
   ]
  },
  {
   "cell_type": "code",
   "execution_count": 2,
   "metadata": {},
   "outputs": [
    {
     "data": {
      "text/plain": [
       "50.0"
      ]
     },
     "execution_count": 2,
     "metadata": {},
     "output_type": "execute_result"
    }
   ],
   "source": [
    "3500/70"
   ]
  },
  {
   "cell_type": "markdown",
   "metadata": {},
   "source": [
    "Cubed is a bit tricky - we can't easily <sup>superscript</sup> text when we type into an ordinary IDE or interpreter, so instead we need some operator to mean \"to the power of\". Python uses ** - * is multiplication and if you think about it, using powers is like **super** multiplication! So it gets two *'s!"
   ]
  },
  {
   "cell_type": "code",
   "execution_count": 3,
   "metadata": {},
   "outputs": [
    {
     "data": {
      "text/plain": [
       "125"
      ]
     },
     "execution_count": 3,
     "metadata": {},
     "output_type": "execute_result"
    }
   ],
   "source": [
    "5**3"
   ]
  },
  {
   "cell_type": "markdown",
   "metadata": {},
   "source": [
    "The remainder is known as the modulus (or modulo). We use the % operator - I remember it's this one because the circles on the % look like o's and modulo ends in an o!"
   ]
  },
  {
   "cell_type": "code",
   "execution_count": 4,
   "metadata": {},
   "outputs": [
    {
     "data": {
      "text/plain": [
       "4"
      ]
     },
     "execution_count": 4,
     "metadata": {},
     "output_type": "execute_result"
    }
   ],
   "source": [
    "39%7"
   ]
  },
  {
   "cell_type": "markdown",
   "metadata": {},
   "source": [
    "### Question 2\n",
    "Although the question here says 'expression' - we really need to write a little program. \n",
    "\n",
    "`*Write an expression to turn a Celsius temperature into Fahrenheit. Begin by declaring a variable\n",
    "called celtemp and assign it an integer value of your choice.\n",
    "Then declare a variable called fahtemp, set up so that it takes the value of celtemp, divides it by\n",
    "5, multiplies by 9, and adds 32.\n",
    "For a final line, write a print statement for fahtemp showing the result.*`\n",
    "\n",
    "Well let's do this one line at a time shall we?\n",
    "\n",
    "*Begin by declaring a variable called celtemp and assign it an integer value of your choice*\n",
    "\n",
    "- Well we declare a variable by writing it's name, `celtemp`. \n",
    "- We then need to use the assignment operator `=` to give it a value.\n",
    "- Finally we need to give it an actual value - in this case an integer which is a whole number. Let's say, 36?"
   ]
  },
  {
   "cell_type": "code",
   "execution_count": 5,
   "metadata": {},
   "outputs": [],
   "source": [
    "celtemp = 36"
   ]
  },
  {
   "cell_type": "markdown",
   "metadata": {},
   "source": [
    "*Then declare a variable called fahtemp, set up so that it takes the value of celtemp, divides it by\n",
    "5, multiplies by 9, and adds 32.*\n",
    "\n",
    "So again we have to:\n",
    "- Declare a variable by writing it's name, `fahtemp`.\n",
    "- Use the assignment operator `=` to state that we're going to set `fahtemp` to something.\n",
    "- Write out the sum \"celtemp divided by 5 multiplied by 9 added to 32\" - using our operators this is `celtemp / 5 * 9 + 32`\n",
    "- As a note of point, you may see this written as a formula including a fraction of 9/5 - just like in ordinary maths we can include brackets to force the order of operation - in this case it would be `(celtemp * (9/5))+32` but with the way our sum is written it's not needed."
   ]
  },
  {
   "cell_type": "code",
   "execution_count": 6,
   "metadata": {},
   "outputs": [],
   "source": [
    "fahtemp = celtemp / 5 * 9 + 32"
   ]
  },
  {
   "cell_type": "markdown",
   "metadata": {},
   "source": [
    "*For a final line, write a print statement for fahtemp showing the result.*\n",
    "\n",
    "print statements are really easy. We used them in assignment one, let's just think about what they are for a minute: print is a *function* - that is a piece of code which does some work for us, that we can call by name. It's name is `print`. The way we can *tell* it's a function is those brackets afterwards - `print()`.\n",
    "\n",
    "But what are the brackets for? Well, to be able to do the work for us print needs be be given one or more pieces of information which we call parameters. I like to think of the brackets as cuddle arms - the function is opening it's arms and it brings all the bits it needs to do it's work in for a big cuddle!\n",
    "\n",
    "Now the parameters. The easiest way we can output things is to put all the things we want to output inside the cuddle arms. These can be variables such as `fahtemp` and `celtemp`, or they can be bits of text inside `'quotations'` - and we separate them with commas. Python will stick them all together, replacing the commas with spaces.\n",
    "\n",
    "So we want to print out something like \"36 C is the same as 96.8 F\" - the numbers are variables so our parameters will be `celtemp`, 'C is the same as', `fahtemp`, 'F'. "
   ]
  },
  {
   "cell_type": "code",
   "execution_count": 7,
   "metadata": {},
   "outputs": [
    {
     "name": "stdout",
     "output_type": "stream",
     "text": [
      "36 C is the same as 96.8 F\n"
     ]
    }
   ],
   "source": [
    "print(celtemp,'C is the same as',fahtemp,'F')"
   ]
  },
  {
   "cell_type": "markdown",
   "metadata": {},
   "source": [
    "### Question 3\n",
    "\n",
    "Once again we will take this question one line step at a time.\n",
    "\n",
    "*Accept the price of an item as input. This will include both pounds and pence (or dollars and\n",
    "cents, or your local currency). At this stage, we will not worry about errors, for example\n",
    "accepting more than two digits in the pence/cents part of the amount;*\n",
    "\n",
    "Now on the face of it this looks really easy.\n",
    "- Declare a variable name.\n",
    "- Use the assignment operator because we're going to be changing that variable.\n",
    "- Use the `input` function to get some input from the user.\n",
    "- Include a parameter inside the cuddle arms to give the user a message.\n",
    "\n",
    "(It's not this easy! But we'll come back to that in a minute!)"
   ]
  },
  {
   "cell_type": "code",
   "execution_count": 8,
   "metadata": {},
   "outputs": [
    {
     "name": "stdout",
     "output_type": "stream",
     "text": [
      "Please enter the prices of the item: 7.48\n"
     ]
    }
   ],
   "source": [
    "price = input('Please enter the prices of the item: ')"
   ]
  },
  {
   "cell_type": "markdown",
   "metadata": {},
   "source": [
    "*Accept as input the total amount of cash given. For example, for an amount costing £7.48, a\n",
    "customer may hand over a £10 note;*\n",
    "\n",
    "And again this should be exactly the same as the previous input, right?"
   ]
  },
  {
   "cell_type": "code",
   "execution_count": 9,
   "metadata": {},
   "outputs": [
    {
     "name": "stdout",
     "output_type": "stream",
     "text": [
      "Please enter the money paid: 10\n"
     ]
    }
   ],
   "source": [
    "paid = input('Please enter the money paid: ')"
   ]
  },
  {
   "cell_type": "markdown",
   "metadata": {},
   "source": [
    "*Calculate and print out the amount of change due.*\n",
    "\n",
    "- So we define a variable, `change`\n",
    "- Use the assignmenbt operator, `=`\n",
    "- Write out the expression, `paid - price`\n",
    "- Use the print statement to output some text and the change"
   ]
  },
  {
   "cell_type": "code",
   "execution_count": 10,
   "metadata": {},
   "outputs": [
    {
     "ename": "TypeError",
     "evalue": "unsupported operand type(s) for -: 'str' and 'str'",
     "output_type": "error",
     "traceback": [
      "\u001b[0;31m---------------------------------------------------------------------------\u001b[0m",
      "\u001b[0;31mTypeError\u001b[0m                                 Traceback (most recent call last)",
      "\u001b[0;32m<ipython-input-10-093c8ae47832>\u001b[0m in \u001b[0;36m<module>\u001b[0;34m\u001b[0m\n\u001b[0;32m----> 1\u001b[0;31m \u001b[0mchange\u001b[0m \u001b[0;34m=\u001b[0m \u001b[0mpaid\u001b[0m \u001b[0;34m-\u001b[0m \u001b[0mprice\u001b[0m\u001b[0;34m\u001b[0m\u001b[0;34m\u001b[0m\u001b[0m\n\u001b[0m\u001b[1;32m      2\u001b[0m \u001b[0mprint\u001b[0m\u001b[0;34m(\u001b[0m\u001b[0;34m'Your change is'\u001b[0m\u001b[0;34m,\u001b[0m\u001b[0mchange\u001b[0m\u001b[0;34m)\u001b[0m\u001b[0;34m\u001b[0m\u001b[0;34m\u001b[0m\u001b[0m\n",
      "\u001b[0;31mTypeError\u001b[0m: unsupported operand type(s) for -: 'str' and 'str'"
     ]
    }
   ],
   "source": [
    "change = paid - price\n",
    "print('Your change is',change)"
   ]
  },
  {
   "cell_type": "markdown",
   "metadata": {},
   "source": [
    "Uh-oh! There's a problem there isn't ther? \n",
    "\n",
    "Look at the last line of the error - it say's `TypeError` and then tells us that the operand `-` doesn't work for strings!\n",
    "\n",
    "When we type something into the keyboard it is stored as text (a string) **even if** it looks like a number. To convert it to a number we need to **typecast** it. In this case, because there are decimal points, we have to typecast it to a `float`.\n",
    "\n",
    "Luckily typecasting is pretty easy. we use a function with the same name as the *new* type (float) and for the parameters (inside the cuddle arms) we put the *old* variable. \n",
    "\n",
    "`floatNumber = float(stringNumber)`\n",
    "\n",
    "Even better, we can include the output of one function as the input (parameter) of another, so\":\n",
    "\n",
    "`floatNumber = float(input('enter a number'))`\n",
    "\n",
    "So we need to write that lot out again, including the floats typecasts."
   ]
  },
  {
   "cell_type": "code",
   "execution_count": 11,
   "metadata": {
    "scrolled": true
   },
   "outputs": [
    {
     "name": "stdout",
     "output_type": "stream",
     "text": [
      "Please enter the prices of the item: 1.50\n",
      "Please enter the money paid: 10.00\n",
      "Your change is 8.5\n"
     ]
    }
   ],
   "source": [
    "price = float(input('Please enter the prices of the item: '))\n",
    "paid = float(input('Please enter the money paid: '))\n",
    "change = paid - price\n",
    "print('Your change is',change)"
   ]
  },
  {
   "cell_type": "markdown",
   "metadata": {},
   "source": [
    "Well that's not bad, is it? However, we'd get back 8.50 rather than 8.5, so we want to format that change. Python has a `format` function. There's quite a bit of information on the [input/output manual](https://docs.python.org/3/tutorial/inputoutput.html) page but I'll give you the basics:\n",
    "- We use the `format` function.\n",
    "- The *first* parameter is the variable we want to format.\n",
    "- The *second* parameter is a string which describes the format we want to use.\n",
    "\n",
    "In this case we want to format the part of the number *after* the decimal point to 2dp - so we use `.2` and we want to format it as a float so we have an `f` - so we use `.2f` as the formatting string. Memorise this one as it is probably the most common formatting string you'll come across!"
   ]
  },
  {
   "cell_type": "code",
   "execution_count": 12,
   "metadata": {},
   "outputs": [
    {
     "name": "stdout",
     "output_type": "stream",
     "text": [
      "Your change is 8.50\n"
     ]
    }
   ],
   "source": [
    "print(\"Your change is\",format(change,\".2f\"))"
   ]
  }
 ],
 "metadata": {
  "kernelspec": {
   "display_name": "Python 3",
   "language": "python",
   "name": "python3"
  },
  "language_info": {
   "codemirror_mode": {
    "name": "ipython",
    "version": 3
   },
   "file_extension": ".py",
   "mimetype": "text/x-python",
   "name": "python",
   "nbconvert_exporter": "python",
   "pygments_lexer": "ipython3",
   "version": "3.7.1"
  }
 },
 "nbformat": 4,
 "nbformat_minor": 2
}
